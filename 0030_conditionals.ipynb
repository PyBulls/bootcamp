{
 "metadata": {
  "name": "0030_conditionals"
 }, 
 "nbformat": 2, 
 "worksheets": [
  {
   "cells": [
    {
     "cell_type": "markdown", 
     "source": [
      "# Conditionals #", 
      "## If, then ##"
     ]
    }, 
    {
     "cell_type": "code", 
     "collapsed": false, 
     "input": [
      "if True: ", 
      "    print \"True is, by definition, true\"", 
      "if False:", 
      "    print \"If this gets printed, there is something horribly wrong\"", 
      "if 1:", 
      "    print \"True/False. 1/0.  Good/Evil... well not so much that last one.\"", 
      "if 0:", 
      "    print \"If this gets printed, there is something horribly wrong\"", 
      "a = \"Foo\"", 
      "if a == \"Foo\":", 
      "    print \"this *evaluates* to True.\"", 
      "    print a == \"Foo\" # See!", 
      "    print True == 1 # True and 1 are one.  There can be only one 1!"
     ], 
     "language": "python", 
     "outputs": [
      {
       "output_type": "stream", 
       "stream": "stdout", 
       "text": [
        "True is, by definition, true", 
        "True/False. 1/0.  Good/Evil... well not so much that last one.", 
        "this *evaluates* to True.  Check it by printing the result.", 
        "True", 
        "True"
       ]
      }
     ], 
     "prompt_number": 4
    }, 
    {
     "cell_type": "code", 
     "collapsed": false, 
     "input": [
      "# If, else", 
      "if False:", 
      "    print \"If this gets printed, there is something horribly wrong\"", 
      "else:", 
      "    print \"The alternative\"    "
     ], 
     "language": "python", 
     "outputs": [
      {
       "output_type": "stream", 
       "stream": "stdout", 
       "text": [
        "The alternative"
       ]
      }
     ], 
     "prompt_number": 5
    }, 
    {
     "cell_type": "code", 
     "collapsed": true, 
     "input": [
      "# If, elif, else", 
      "if a == \"Fo\":", 
      "    print \"One letter too short.\"", 
      "elif a == \"Foo\":", 
      "    print \"a is indeed set to Foo\"", 
      "else:", 
      "    print \"This is not the a you are looking for", 
      "    ", 
      "    "
     ], 
     "language": "python", 
     "outputs": [], 
     "prompt_number": "&nbsp;"
    }
   ]
  }
 ]
}