{
 "metadata": {
  "name": "0030_conditionals"
 }, 
 "nbformat": 2, 
 "worksheets": [
  {
   "cells": [
    {
     "cell_type": "markdown", 
     "source": [
      "# Conditionals #", 
      "## If, then ##"
     ]
    }, 
    {
     "cell_type": "code", 
     "collapsed": false, 
     "input": [
      "if True: ", 
      "    print \"True is, by definition, true\"", 
      "if False:", 
      "    print \"If this gets printed, there is something horribly wrong\"", 
      "if 1:", 
      "    print \"True/False. 1/0.  Good/Evil... well not so much that last one.\"", 
      "if 0:", 
      "    print \"If this gets printed, there is something horribly wrong\"", 
      "a = \"Foo\"", 
      "if a == \"Foo\":", 
      "    print \"this *evaluates* to True.\"", 
      "    print a == \"Foo\" # See!", 
      "    print True == 1 # True and 1 are one.  There can be only one 1!"
     ], 
     "language": "python", 
     "outputs": [
      {
       "output_type": "stream", 
       "stream": "stdout", 
       "text": [
        "True is, by definition, true", 
        "True/False. 1/0.  Good/Evil... well not so much that last one.", 
        "this *evaluates* to True.", 
        "True", 
        "True"
       ]
      }
     ], 
     "prompt_number": 9
    }, 
    {
     "cell_type": "code", 
     "collapsed": false, 
     "input": [
      "# If, else", 
      "if False:", 
      "    print \"If this gets printed, there is something horribly wrong\"", 
      "else:", 
      "    print \"The alternative\"    "
     ], 
     "language": "python", 
     "outputs": [
      {
       "output_type": "stream", 
       "stream": "stdout", 
       "text": [
        "The alternative"
       ]
      }
     ], 
     "prompt_number": 8
    }, 
    {
     "cell_type": "code", 
     "collapsed": false, 
     "input": [
      "# If, elif, else", 
      "a = \"Foo\"  # Assignment vs Conditional: Supplies! a = \"Foo\"  vs.  a == \"Foo\"", 
      "if a == \"Foo\":", 
      "    print \"a is indeed set to Foo\"", 
      "elif a == \"Far\":", 
      "    print \"a is indeed set to Bar\"", 
      "else:", 
      "    print \"This wasn't covered in the options.\""
     ], 
     "language": "python", 
     "outputs": [
      {
       "output_type": "stream", 
       "stream": "stdout", 
       "text": [
        "a is indeed set to Bar"
       ]
      }
     ], 
     "prompt_number": 7
    }, 
    {
     "cell_type": "code", 
     "collapsed": true, 
     "input": [], 
     "language": "python", 
     "outputs": [], 
     "prompt_number": "&nbsp;"
    }
   ]
  }
 ]
}