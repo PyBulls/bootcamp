{
 "metadata": {
  "name": "0040_loops"
 }, 
 "nbformat": 2, 
 "worksheets": [
  {
   "cells": [
    {
     "cell_type": "markdown", 
     "source": [
      "# Loops and Flow Control #", 
      "### For ###"
     ]
    }, 
    {
     "cell_type": "code", 
     "collapsed": false, 
     "input": [
      "for i in [1,2,3,4,6,7]:", 
      "    print i, i*2, i**2, \"Mu\"+\"Ha\"*i"
     ], 
     "language": "python", 
     "outputs": [
      {
       "output_type": "stream", 
       "stream": "stdout", 
       "text": [
        "1 2 1 MuHa", 
        "2 4 4 MuHaHa", 
        "3 6 9 MuHaHaHa", 
        "4 8 16 MuHaHaHaHa", 
        "6 12 36 MuHaHaHaHaHaHa", 
        "7 14 49 MuHaHaHaHaHaHaHa"
       ]
      }
     ], 
     "prompt_number": 5
    }, 
    {
     "cell_type": "code", 
     "collapsed": false, 
     "input": [
      "for i in range(7): # one arguement to range specifies end", 
      "    print i, i*2, i**2, \"Mu\"+\"Ha\"*i"
     ], 
     "language": "python", 
     "outputs": [
      {
       "output_type": "stream", 
       "stream": "stdout", 
       "text": [
        "0 0 0 Mu", 
        "1 2 1 MuHa", 
        "2 4 4 MuHaHa", 
        "3 6 9 MuHaHaHa", 
        "4 8 16 MuHaHaHaHa", 
        "5 10 25 MuHaHaHaHaHa", 
        "6 12 36 MuHaHaHaHaHaHa"
       ]
      }
     ], 
     "prompt_number": 6
    }, 
    {
     "cell_type": "code", 
     "collapsed": false, 
     "input": [
      "for i in range(1,8):  # Optionally, two arguments can be used, the first specifies start", 
      "    print i, i*2, i**2, \"Mu\"+\"Ha\"*i"
     ], 
     "language": "python", 
     "outputs": [
      {
       "output_type": "stream", 
       "stream": "stdout", 
       "text": [
        "1 2 1 MuHa", 
        "2 4 4 MuHaHa", 
        "3 6 9 MuHaHaHa", 
        "4 8 16 MuHaHaHaHa", 
        "5 10 25 MuHaHaHaHaHa", 
        "6 12 36 MuHaHaHaHaHaHa", 
        "7 14 49 MuHaHaHaHaHaHaHa"
       ]
      }
     ], 
     "prompt_number": 7
    }, 
    {
     "cell_type": "code", 
     "collapsed": false, 
     "input": [
      "for i in range(2,24,2):  # third (optional) argument is step size", 
      "    print i, i*2, i**2, \"Mu\"+\"Ha\"*i"
     ], 
     "language": "python", 
     "outputs": [
      {
       "output_type": "stream", 
       "stream": "stdout", 
       "text": [
        "2 4 4 MuHaHa", 
        "4 8 16 MuHaHaHaHa", 
        "6 12 36 MuHaHaHaHaHaHa", 
        "8 16 64 MuHaHaHaHaHaHaHaHa", 
        "10 20 100 MuHaHaHaHaHaHaHaHaHaHa", 
        "12 24 144 MuHaHaHaHaHaHaHaHaHaHaHaHa", 
        "14 28 196 MuHaHaHaHaHaHaHaHaHaHaHaHaHaHa", 
        "16 32 256 MuHaHaHaHaHaHaHaHaHaHaHaHaHaHaHaHa", 
        "18 36 324 MuHaHaHaHaHaHaHaHaHaHaHaHaHaHaHaHaHaHa", 
        "20 40 400 MuHaHaHaHaHaHaHaHaHaHaHaHaHaHaHaHaHaHaHaHa", 
        "22 44 484 MuHaHaHaHaHaHaHaHaHaHaHaHaHaHaHaHaHaHaHaHaHaHa"
       ]
      }
     ], 
     "prompt_number": 9
    }, 
    {
     "cell_type": "markdown", 
     "source": [
      "### Range in the Built-in Functions Documentation ###", 
      "The [brackets] indicate optional arguments", 
      "<iframe width=800 height=400 src=\"http://docs.python.org/library/functions.html#range\"></iframe>"
     ]
    }, 
    {
     "cell_type": "code", 
     "collapsed": false, 
     "input": [
      "help(range) # You might not always have internet, but help is always at hand!"
     ], 
     "language": "python", 
     "outputs": [
      {
       "output_type": "stream", 
       "stream": "stdout", 
       "text": [
        "Help on built-in function range in module __builtin__:", 
        "", 
        "range(...)", 
        "    range([start,] stop[, step]) -&gt; list of integers", 
        "    ", 
        "    Return a list containing an arithmetic progression of integers.", 
        "    range(i, j) returns [i, i+1, i+2, ..., j-1]; start (!) defaults to 0.", 
        "    When step is given, it specifies the increment (or decrement).", 
        "    For example, range(4) returns [0, 1, 2, 3].  The end point is omitted!", 
        "    These are exactly the valid indices for a list of 4 elements."
       ]
      }
     ], 
     "prompt_number": 11
    }, 
    {
     "cell_type": "markdown", 
     "source": [
      "### While ###", 
      "You've already met conditionals.  While loops continue until the condition becomes True."
     ]
    }, 
    {
     "cell_type": "code", 
     "collapsed": false, 
     "input": [
      "i = 0", 
      "while (i < 3):", 
      "   print \"The counter is now {0} and {1} < 3 is {2}\".format(i,i,i < 3)  # sneak peek of \"{}\".format()", 
      "   i = i + 1", 
      "", 
      "print \"Outside while loop because: \"", 
      "print \"Counter is now {0} and {1} < 3 is {2}\".format(i,i,i < 3)  "
     ], 
     "language": "python", 
     "outputs": [
      {
       "output_type": "stream", 
       "stream": "stdout", 
       "text": [
        "The counter is now 0 and 0 &lt; 3 is True", 
        "The counter is now 1 and 1 &lt; 3 is True", 
        "The counter is now 2 and 2 &lt; 3 is True", 
        "Outside while because: ", 
        "Counter is now 3 and 3 &lt; 3 is False"
       ]
      }
     ], 
     "prompt_number": 15
    }, 
    {
     "cell_type": "markdown", 
     "source": [
      "## Break and Continue ##"
     ]
    }, 
    {
     "cell_type": "code", 
     "collapsed": false, 
     "input": [
      "for i in range(5):", 
      "    print i", 
      "    if i > 2: ", 
      "        break", 
      "print \"Done!\""
     ], 
     "language": "python", 
     "outputs": [
      {
       "output_type": "stream", 
       "stream": "stdout", 
       "text": [
        "0", 
        "1", 
        "2", 
        "3", 
        "Done!"
       ]
      }
     ], 
     "prompt_number": 18
    }, 
    {
     "cell_type": "code", 
     "collapsed": false, 
     "input": [
      "for i in range(100):", 
      "    if i < 2:", 
      "        print i", 
      "        continue", 
      "    else:", 
      "        print \"breaking with i={}\".format(i) # Sneak peak of \"{}\".format()", 
      "        break", 
      "print \"Done!\""
     ], 
     "language": "python", 
     "outputs": [
      {
       "output_type": "stream", 
       "stream": "stdout", 
       "text": [
        "0", 
        "1", 
        "breaking with i=2", 
        "Done!"
       ]
      }
     ], 
     "prompt_number": 20
    }, 
    {
     "cell_type": "markdown", 
     "source": [
      "## Exercises ##", 
      "* Beginner: Use a for loop to write a multiplication tables and D.R.Y..  They should print like the following:", 
      "  * 5 x 1 = 5 ", 
      "  * 5 x 2 = 10", 
      "  * 5 x 3 = 15", 
      "  * ...", 
      "* Advanced: Write a multiplication matrix that prints out the following:", 
      "  * 0 1 2 3...", 
      "  * 1 1 2 3...", 
      "  * 2 2 4 6...", 
      "  * 3 3 6 9...", 
      "  * etc."
     ]
    }
   ]
  }
 ]
}