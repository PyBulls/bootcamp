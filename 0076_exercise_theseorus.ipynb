{
 "metadata": {
  "name": "0076_exercise_theseorus"
 }, 
 "nbformat": 2, 
 "worksheets": [
  {
   "cells": [
    {
     "cell_type": "markdown", 
     "source": [
      "## Exercise ##", 
      "Read in the ./sample_data/en_common_misspellings.txt file and write out  a bunch of HTML pages like the following."
     ]
    }, 
    {
     "cell_type": "markdown", 
     "source": [
      "<iframe width=800 height=150 src=\"http://www.theseorus.com/abilty.html\"></iframe>"
     ]
    }, 
    {
     "cell_type": "markdown", 
     "source": [
      "    <html><script type=\"text/javascript\">window[\"_gaUserPrefs\"] = { ioo : function() { return true; } }</script><head>", 
      "    <meta http-equiv=\"Content-Type\" content=\"text/html; charset=UTF-8\"> ", 
      "    <title>abilty</title>", 
      "    <script type=\"text/javascript\"><!--", 
      "    google_ad_client = \"ca-pub-3716441236717358\";", 
      "    /* Theseorus */", 
      "    google_ad_slot = \"7038674319\";", 
      "    google_ad_width = 728;", 
      "    google_ad_height = 90;", 
      "    //-->", 
      "    </script>", 
      "    <style type=\"text/css\"></style><style>.ghostery-alert-6916-blocked{color:#777;display:inline;text-decoration:line-through}#ghostery-alert-6916 br{display:block}#ghostery-alert-6916{border:solid 2px #fff;color:#fff;font:13px Arial,Helvetica;opacity:0.9;padding:7px 10px;position:fixed;text-align:left;text-shadow:none;text-transform:none;width:auto;z-index:2147483647;-webkit-border-radius:5px;-webkit-box-shadow:0px 0px 20px #000}@media print, screen and (view-mode:minimized){#ghostery-alert-6916{display:none}}</style></head>", 
      "    <body class=\" hasGoogleVoiceExt\">", 
      "    <h1>abilty</h1>", 
      "    <script type=\"text/javascript\" src=\"http://pagead2.googlesyndication.com/pagead/show_ads.js\">", 
      "    </script>", 
      "    <br>abilty-&gt;abilty<br>", 
      "    JSON|XML", 
      "    <style id=\"_clearly_component__css\" type=\"text/css\">#next_pages_container { width: 5px; hight: 5px; position: absolute; top: -100px; left: -100px; z-index: 2147483647 !important; } </style><div id=\"_clearly_component__next_pages_container\"></div>", 
      "    </body>", 
      "    </html>"
     ]
    }
   ]
  }
 ]
}