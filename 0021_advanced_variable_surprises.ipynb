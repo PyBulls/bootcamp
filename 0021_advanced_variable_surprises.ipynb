{
 "metadata": {
  "name": "0021_advanced_variable_surprises"
 }, 
 "nbformat": 2, 
 "worksheets": [
  {
   "cells": [
    {
     "cell_type": "markdown", 
     "source": [
      "# Supplies! #", 
      "## Copy or Reference? ##"
     ]
    }, 
    {
     "cell_type": "code", 
     "collapsed": false, 
     "input": [
      "listA = [1, 2, 3]", 
      "listB = listA # this is a reference and NOT a copy", 
      "listC = listA[:] # slicing makes a copy", 
      "listA[0] = -1  # update A", 
      "print listA", 
      "print listB # Supplies!  B was updated too!", 
      "print listC # No Supplies! here.  C was copied and NOT a reference."
     ], 
     "language": "python", 
     "outputs": [
      {
       "output_type": "stream", 
       "stream": "stdout", 
       "text": [
        "[-1, 2, 3]", 
        "[-1, 2, 3]", 
        "[1, 2, 3]"
       ]
      }
     ], 
     "prompt_number": 6
    }, 
    {
     "cell_type": "code", 
     "collapsed": true, 
     "input": [], 
     "language": "python", 
     "outputs": [], 
     "prompt_number": "&nbsp;"
    }
   ]
  }
 ]
}