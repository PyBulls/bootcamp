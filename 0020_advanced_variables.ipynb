{
 "metadata": {
  "name": "0020_advanced_variables"
 }, 
 "name": "0020_advanced_variables", 
 "nbformat": 2, 
 "worksheets": [
  {
   "cells": [
    {
     "cell_type": "markdown", 
     "source": "Tuples - very similar to lists but immutable, which means they cannot be changed."
    }, 
    {
     "cell_type": "code", 
     "collapsed": false, 
     "input": "a = (1,2,3)\nprint a[0:2]", 
     "language": "python", 
     "outputs": [
      {
       "output_type": "stream", 
       "stream": "stdout", 
       "text": "(1, 2)"
      }
     ], 
     "prompt_number": 1
    }, 
    {
     "cell_type": "code", 
     "collapsed": true, 
     "input": "print a.append()", 
     "language": "python", 
     "outputs": [], 
     "prompt_number": "&nbsp;"
    }, 
    {
     "cell_type": "markdown", 
     "source": "Dictionaries - key/value pairs"
    }, 
    {
     "cell_type": "code", 
     "collapsed": false, 
     "input": "a = {\"key\":\"value\"}\nprint a[\"key\"]\nprint a.keys()", 
     "language": "python", 
     "outputs": [
      {
       "output_type": "stream", 
       "stream": "stdout", 
       "text": "value\n[&apos;key&apos;]"
      }
     ], 
     "prompt_number": 2
    }, 
    {
     "cell_type": "code", 
     "collapsed": true, 
     "input": "", 
     "language": "python", 
     "outputs": [], 
     "prompt_number": 2
    }, 
    {
     "cell_type": "code", 
     "collapsed": true, 
     "input": "", 
     "language": "python", 
     "outputs": [], 
     "prompt_number": 2
    }, 
    {
     "cell_type": "code", 
     "collapsed": true, 
     "input": "", 
     "language": "python", 
     "outputs": [], 
     "prompt_number": 2
    }
   ]
  }
 ]
}