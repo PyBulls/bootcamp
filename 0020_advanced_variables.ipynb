{
 "metadata": {
  "name": "0020_advanced_variables"
 }, 
 "nbformat": 2, 
 "worksheets": [
  {
   "cells": [
    {
     "cell_type": "markdown", 
     "source": [
      "# Advanced Variables #", 
      "## Tuples and Dictionaries ##"
     ]
    }, 
    {
     "cell_type": "code", 
     "collapsed": false, 
     "input": [
      "# Tuples are very similar to lists but  are \"immutable\", which means they cannot be changed.", 
      "# You can slice a tuple just like a list.", 
      "a = (1,2,3)", 
      "print a[0:2] # same subscript notation"
     ], 
     "language": "python", 
     "outputs": [
      {
       "output_type": "stream", 
       "stream": "stdout", 
       "text": [
        "(1, 2)"
       ]
      }
     ], 
     "prompt_number": 5
    }, 
    {
     "cell_type": "code", 
     "collapsed": false, 
     "input": [
      "# But you cannot append to or change values in a tuple.", 
      "print a.append(4)"
     ], 
     "language": "python", 
     "outputs": [
      {
       "ename": "AttributeError", 
       "evalue": "'tuple' object has no attribute 'append'", 
       "output_type": "pyerr", 
       "traceback": [
        "<span class=\"ansired\">---------------------------------------------------------------------------</span>\n<span class=\"ansired\">AttributeError</span>                            Traceback (most recent call last)", 
        "<span class=\"ansigreen\">D:\\dandye\\personal\\PythonBootcamp\\GitHub\\&lt;ipython-input-6-e16db431a0fa&gt;</span> in <span class=\"ansicyan\">&lt;module&gt;</span><span class=\"ansiblue\">()</span>\n<span class=\"ansigreen\">----&gt; 1</span><span class=\"ansiyellow\"> </span><span class=\"ansigreen\">print</span> a<span class=\"ansiyellow\">.</span>append<span class=\"ansiyellow\">(</span><span class=\"ansiyellow\">)</span><span class=\"ansiyellow\"></span>\n", 
        "<span class=\"ansired\">AttributeError</span>: &apos;tuple&apos; object has no attribute &apos;append&apos;"
       ]
      }
     ], 
     "prompt_number": 6
    }, 
    {
     "cell_type": "markdown", 
     "source": []
    }, 
    {
     "cell_type": "code", 
     "collapsed": false, 
     "input": [
      "# Dictionaries are key/value pairs", 
      "a = {\"mykey\":\"myvalue\"}  # define a dictionary with braces ", 
      "print a[\"mykey\"] # subscript with a key name", 
      "print a.keys() # list all of the dictionaries keys", 
      "a[\"anotherkey\"] = 1 # assign a value to a key in a dict.", 
      "print a.keys() # note that the order may not be preserved!"
     ], 
     "language": "python", 
     "outputs": [
      {
       "output_type": "stream", 
       "stream": "stdout", 
       "text": [
        "myvalue", 
        "[&apos;mykey&apos;]", 
        "[&apos;anotherkey&apos;, &apos;mykey&apos;]"
       ]
      }
     ], 
     "prompt_number": 2
    }, 
    {
     "cell_type": "code", 
     "collapsed": false, 
     "input": [
      "print a.values()"
     ], 
     "language": "python", 
     "outputs": [
      {
       "output_type": "stream", 
       "stream": "stdout", 
       "text": [
        "[&apos;myvalue&apos;]"
       ]
      }
     ], 
     "prompt_number": 11
    }, 
    {
     "cell_type": "markdown", 
     "source": [
      "Exercises:", 
      "", 
      "1. Create a dictionary with your First Name, Last Name, and Email Adress", 
      "", 
      "2. Print a complete sentence that includes the dictionary values.", 
      "", 
      "Example: My name is Daniel Dye and my email address is Dr.Evil@MuHa2.com"
     ]
    }, 
    {
     "cell_type": "markdown", 
     "source": [
      "## Other Types ##", 
      "We aren't covering some data types today but I want to mention them: ", 
      "", 
      "## Sets ##", 
      "<iframe width=900 height=400 src=\"http://docs.python.org/library/stdtypes.html#set\"></iframe>"
     ]
    }
   ]
  }
 ]
}