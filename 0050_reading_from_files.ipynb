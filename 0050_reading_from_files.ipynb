{
 "metadata": {
  "name": "0050_reading_from_files"
 }, 
 "nbformat": 2, 
 "worksheets": [
  {
   "cells": [
    {
     "cell_type": "markdown", 
     "source": [
      "## Reading from Files ##"
     ]
    }, 
    {
     "cell_type": "code", 
     "collapsed": false, 
     "input": [
      "of = open(\"./sample_data/lorem_ipsum.txt\")  # of is a file-handler", 
      "my_string = of.read() # read method on the file handler", 
      "of.close() # close the file-handler", 
      "", 
      "print my_string"
     ], 
     "language": "python", 
     "outputs": [], 
     "prompt_number": 1
    }, 
    {
     "cell_type": "code", 
     "collapsed": false, 
     "input": [
      "of = open(\"./sample_data/lorem_ipsum.txt\")", 
      "my_lines = of.readlines() ", 
      "of.close()", 
      "", 
      "for i in range(len(my_lines)):  # sneak peak: len()", 
      "    print i", 
      "    print my_lines[i][:25]+\"...\""
     ], 
     "language": "python", 
     "outputs": [], 
     "prompt_number": 2
    }, 
    {
     "cell_type": "code", 
     "collapsed": false, 
     "input": [
      "of = open('./sample_data/sherlock_holmes.txt')", 
      "sherlock_text = of.read()", 
      "of.close()", 
      "", 
      "# split the text up by whitespace", 
      "words = sherlock_text.split()", 
      "# use a Counter collection to count the words", 
      "from collections import Counter", 
      "counted_words = Counter(words)", 
      "print counted_words.most_common(30)"
     ], 
     "language": "python", 
     "outputs": [], 
     "prompt_number": 3
    }, 
    {
     "cell_type": "markdown", 
     "source": [
      "<iframe width=800 height=600 src=\"http://docs.python.org/library/stdtypes.html#file-objects\"</iframe>"
     ]
    }, 
    {
     "cell_type": "markdown", 
     "source": [
      "## Writing to Files ##"
     ]
    }, 
    {
     "cell_type": "code", 
     "collapsed": false, 
     "input": [
      "of = open(\"./sample_data/hello_world.txt\",\"w\") # note the second argument to open", 
      "for i in [\"Hello\",\"World\",\"!\"]:", 
      "    print i", 
      "    of.write(i)", 
      "of.close()"
     ], 
     "language": "python", 
     "outputs": [], 
     "prompt_number": 4
    }, 
    {
     "cell_type": "code", 
     "collapsed": false, 
     "input": [
      "of = open(\"./sample_data/hello_world.txt\",\"w\") # note the second argument to open", 
      "for i in [\"Hello\",\"World\",\"!\"]:", 
      "    print i,  # Supplies!", 
      "    of.write(i+\"\\n\") # intro to escape chacter and new line", 
      "of.close()"
     ], 
     "language": "python", 
     "outputs": [], 
     "prompt_number": 5
    }, 
    {
     "cell_type": "markdown", 
     "source": [
      "<table border=\"1\" class=\"docutils\">", 
      "<colgroup>", 
      "<col width=\"30%\">", 
      "<col width=\"58%\">", 
      "<col width=\"12%\">", 
      "</colgroup>", 
      "<thead valign=\"bottom\">", 
      "<tr><th class=\"head\">Escape Sequence</th>", 
      "<th class=\"head\">Meaning</th>", 
      "<th class=\"head\">Notes</th>", 
      "</tr>", 
      "</thead>", 
      "<tbody valign=\"top\">", 
      "<tr><td><tt class=\"docutils literal\"><span class=\"pre\">\\newline</span></tt></td>", 
      "<td>Ignored</td>", 
      "<td>&nbsp;</td>", 
      "</tr>", 
      "<tr><td><tt class=\"docutils literal\"><span class=\"pre\">\\\\</span></tt></td>", 
      "<td>Backslash (<tt class=\"docutils literal\"><span class=\"pre\">\\</span></tt>)</td>", 
      "<td>&nbsp;</td>", 
      "</tr>", 
      "<tr><td><tt class=\"docutils literal\"><span class=\"pre\">\\'</span></tt></td>", 
      "<td>Single quote (<tt class=\"docutils literal\"><span class=\"pre\">'</span></tt>)</td>", 
      "<td>&nbsp;</td>", 
      "</tr>", 
      "<tr><td><tt class=\"docutils literal\"><span class=\"pre\">\\\"</span></tt></td>", 
      "<td>Double quote (<tt class=\"docutils literal\"><span class=\"pre\">\"</span></tt>)</td>", 
      "<td>&nbsp;</td>", 
      "</tr>", 
      "<tr><td><tt class=\"docutils literal\"><span class=\"pre\">\\a</span></tt></td>", 
      "<td>ASCII Bell (BEL)</td>", 
      "<td>&nbsp;</td>", 
      "</tr>", 
      "<tr><td><tt class=\"docutils literal\"><span class=\"pre\">\\b</span></tt></td>", 
      "<td>ASCII Backspace (BS)</td>", 
      "<td>&nbsp;</td>", 
      "</tr>", 
      "<tr><td><tt class=\"docutils literal\"><span class=\"pre\">\\f</span></tt></td>", 
      "<td>ASCII Formfeed (FF)</td>", 
      "<td>&nbsp;</td>", 
      "</tr>", 
      "<tr><td><tt class=\"docutils literal\"><span class=\"pre\">\\n</span></tt></td>", 
      "<td>ASCII Linefeed (LF)</td>", 
      "<td>&nbsp;</td>", 
      "</tr>", 
      "<tr><td><tt class=\"docutils literal\"><span class=\"pre\">\\N{name}</span></tt></td>", 
      "<td>Character named <em>name</em> in the", 
      "Unicode database (Unicode only)</td>", 
      "<td>&nbsp;</td>", 
      "</tr>", 
      "<tr><td><tt class=\"docutils literal\"><span class=\"pre\">\\r</span></tt></td>", 
      "<td>ASCII Carriage Return (CR)</td>", 
      "<td>&nbsp;</td>", 
      "</tr>", 
      "<tr><td><tt class=\"docutils literal\"><span class=\"pre\">\\t</span></tt></td>", 
      "<td>ASCII Horizontal Tab (TAB)</td>", 
      "<td>&nbsp;</td>", 
      "</tr>", 
      "<tr><td><tt class=\"docutils literal\"><span class=\"pre\">\\uxxxx</span></tt></td>", 
      "<td>Character with 16-bit hex value", 
      "<em>xxxx</em> (Unicode only)</td>", 
      "<td>(1)</td>", 
      "</tr>", 
      "<tr><td><tt class=\"docutils literal\"><span class=\"pre\">\\Uxxxxxxxx</span></tt></td>", 
      "<td>Character with 32-bit hex value", 
      "<em>xxxxxxxx</em> (Unicode only)</td>", 
      "<td>(2)</td>", 
      "</tr>", 
      "<tr><td><tt class=\"docutils literal\"><span class=\"pre\">\\v</span></tt></td>", 
      "<td>ASCII Vertical Tab (VT)</td>", 
      "<td>&nbsp;</td>", 
      "</tr>", 
      "<tr><td><tt class=\"docutils literal\"><span class=\"pre\">\\ooo</span></tt></td>", 
      "<td>Character with octal value", 
      "<em>ooo</em></td>", 
      "<td>(3,5)</td>", 
      "</tr>", 
      "<tr><td><tt class=\"docutils literal\"><span class=\"pre\">\\xhh</span></tt></td>", 
      "<td>Character with hex value <em>hh</em></td>", 
      "<td>(4,5)</td>", 
      "</tr>", 
      "</tbody>", 
      "</table>"
     ]
    }
   ]
  }
 ]
}