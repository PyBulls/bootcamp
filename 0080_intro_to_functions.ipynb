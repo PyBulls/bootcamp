{
 "metadata": {
  "name": "0080_intro_to_functions"
 }, 
 "nbformat": 2, 
 "worksheets": [
  {
   "cells": [
    {
     "cell_type": "markdown", 
     "source": [
      "Intro to Functions"
     ]
    }, 
    {
     "cell_type": "code", 
     "collapsed": true, 
     "input": [
      "def my_first_function(a,b):", 
      "    return a+b"
     ], 
     "language": "python", 
     "outputs": [], 
     "prompt_number": 3
    }, 
    {
     "cell_type": "code", 
     "collapsed": false, 
     "input": [
      "print my_first_function(1,2)"
     ], 
     "language": "python", 
     "outputs": [
      {
       "output_type": "stream", 
       "stream": "stdout", 
       "text": [
        "3"
       ]
      }
     ], 
     "prompt_number": 4
    }, 
    {
     "cell_type": "code", 
     "collapsed": false, 
     "input": [
      "print my_first_function(\"Hello \", \"World\")"
     ], 
     "language": "python", 
     "outputs": [
      {
       "output_type": "stream", 
       "stream": "stdout", 
       "text": [
        "Hello World"
       ]
      }
     ], 
     "prompt_number": 5
    }, 
    {
     "cell_type": "code", 
     "collapsed": false, 
     "input": [
      "print my_first_function(\"Hello \", 1)"
     ], 
     "language": "python", 
     "outputs": [
      {
       "ename": "TypeError", 
       "evalue": "cannot concatenate 'str' and 'int' objects", 
       "output_type": "pyerr", 
       "traceback": [
        "<span class=\"ansired\">---------------------------------------------------------------------------</span>\n<span class=\"ansired\">TypeError</span>                                 Traceback (most recent call last)", 
        "<span class=\"ansigreen\">D:\\dandye\\personal\\PythonBootcamp\\GitHub\\&lt;ipython-input-6-dde7d2f61df5&gt;</span> in <span class=\"ansicyan\">&lt;module&gt;</span><span class=\"ansiblue\">()</span>\n<span class=\"ansigreen\">----&gt; 1</span><span class=\"ansiyellow\"> </span><span class=\"ansigreen\">print</span> my_first_function<span class=\"ansiyellow\">(</span><span class=\"ansiblue\">&quot;Hello &quot;</span><span class=\"ansiyellow\">,</span> <span class=\"ansicyan\">1</span><span class=\"ansiyellow\">)</span><span class=\"ansiyellow\"></span>\n", 
        "<span class=\"ansigreen\">D:\\dandye\\personal\\PythonBootcamp\\GitHub\\&lt;ipython-input-3-c3bdf03ff25a&gt;</span> in <span class=\"ansicyan\">my_first_function</span><span class=\"ansiblue\">(a, b)</span>\n<span class=\"ansigreen\">      1</span> <span class=\"ansigreen\">def</span> my_first_function<span class=\"ansiyellow\">(</span>a<span class=\"ansiyellow\">,</span>b<span class=\"ansiyellow\">)</span><span class=\"ansiyellow\">:</span><span class=\"ansiyellow\"></span>\n<span class=\"ansigreen\">----&gt; 2</span><span class=\"ansiyellow\">     </span><span class=\"ansigreen\">return</span> a<span class=\"ansiyellow\">+</span>b<span class=\"ansiyellow\"></span>\n", 
        "<span class=\"ansired\">TypeError</span>: cannot concatenate &apos;str&apos; and &apos;int&apos; objects"
       ]
      }
     ], 
     "prompt_number": 6
    }
   ]
  }
 ]
}