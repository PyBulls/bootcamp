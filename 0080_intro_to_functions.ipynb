{
 "metadata": {
  "name": "0080_intro_to_functions"
 }, 
 "nbformat": 2, 
 "worksheets": [
  {
   "cells": [
    {
     "cell_type": "markdown", 
     "source": [
      "# Intro to Functions #"
     ]
    }, 
    {
     "cell_type": "code", 
     "collapsed": true, 
     "input": [
      "def my_first_function(a,b):", 
      "    print a+b"
     ], 
     "language": "python", 
     "outputs": [], 
     "prompt_number": 3
    }, 
    {
     "cell_type": "code", 
     "collapsed": false, 
     "input": [
      "my_first_function(1,2)", 
      "my_first_function(\"Hello \", \"World\")"
     ], 
     "language": "python", 
     "outputs": [], 
     "prompt_number": 8
    }, 
    {
     "cell_type": "code", 
     "collapsed": true, 
     "input": [
      "my_first_function(\"Hello \", 1)"
     ], 
     "language": "python", 
     "outputs": [], 
     "prompt_number": "&nbsp;"
    }, 
    {
     "cell_type": "code", 
     "collapsed": true, 
     "input": [
      "def add_and_return(a,b):", 
      "    return a+b"
     ], 
     "language": "python", 
     "outputs": [], 
     "prompt_number": 4
    }, 
    {
     "cell_type": "code", 
     "collapsed": false, 
     "input": [
      "for i in range(3):", 
      "    print \"1 + {0} is {1}\".format(i,add_and_return(1,i))"
     ], 
     "language": "python", 
     "outputs": [], 
     "prompt_number": 7
    }, 
    {
     "cell_type": "markdown", 
     "source": [
      "## Variable Scope ##"
     ]
    }, 
    {
     "cell_type": "code", 
     "collapsed": false, 
     "input": [
      "def f(a):", 
      "    print \"inside f() a={}\".format(a)", 
      "    a = 1", 
      "    print \"functions changed a to {}\".format(a)", 
      "    return a", 
      "", 
      "a = 0", 
      "print \"before f() a={}\".format(a)", 
      "b = f(a)", 
      "print \"after f() a={}  #Supplies!\".format(a)", 
      "print \"after f() b={}\".format(b)"
     ], 
     "language": "python", 
     "outputs": [
      {
       "output_type": "stream", 
       "stream": "stdout", 
       "text": [
        "before f() a=0", 
        "inside f() a=0", 
        "functions changed a to 1", 
        "after f() a=0  #Supplies!", 
        "after f() b=1"
       ]
      }
     ], 
     "prompt_number": 15
    }, 
    {
     "cell_type": "code", 
     "collapsed": false, 
     "input": [
      "before = 0", 
      "", 
      "def f(iamlocal):", 
      "    print iamlocal", 
      "    iamlocal = 1", 
      "    return iamlocal", 
      "", 
      "after = f(before)", 
      "print before, after"
     ], 
     "language": "python", 
     "outputs": [
      {
       "output_type": "stream", 
       "stream": "stdout", 
       "text": [
        "0", 
        "0 1"
       ]
      }
     ], 
     "prompt_number": 19
    }, 
    {
     "cell_type": "code", 
     "collapsed": false, 
     "input": [
      "before = 0 ", 
      "", 
      "def f(iamlocal):", 
      "    global iamglobal = 3", 
      "    iamlocal = 1", 
      "    print before", 
      "    before = 1", 
      "    return iamlocal", 
      ""
     ], 
     "language": "python", 
     "outputs": [
      {
       "ename": "SyntaxError", 
       "evalue": "invalid syntax (<ipython-input-21-77169b991f9c>, line 4)", 
       "output_type": "pyerr", 
       "traceback": [
        "<span class=\"ansicyan\">  File </span><span class=\"ansigreen\">&quot;&lt;ipython-input-21-77169b991f9c&gt;&quot;</span><span class=\"ansicyan\">, line </span><span class=\"ansigreen\">4</span>\n<span class=\"ansiyellow\">    global iamglobal = 3</span>\n<span class=\"ansigrey\">                     ^</span>\n<span class=\"ansired\">SyntaxError</span><span class=\"ansired\">:</span> invalid syntax\n"
       ]
      }
     ], 
     "prompt_number": 21
    }, 
    {
     "cell_type": "code", 
     "collapsed": true, 
     "input": [], 
     "language": "python", 
     "outputs": [], 
     "prompt_number": "&nbsp;"
    }
   ]
  }
 ]
}