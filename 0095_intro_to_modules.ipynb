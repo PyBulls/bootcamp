{
 "metadata": {
  "name": "0095_intro_to_modules"
 }, 
 "nbformat": 2, 
 "worksheets": [
  {
   "cells": [
    {
     "cell_type": "markdown", 
     "source": [
      "# Modules #"
     ]
    }, 
    {
     "cell_type": "code", 
     "collapsed": true, 
     "input": [
      "# hello.py", 
      "print \"Hello World!\""
     ], 
     "language": "python", 
     "outputs": [], 
     "prompt_number": "&nbsp;"
    }, 
    {
     "cell_type": "markdown", 
     "source": [
      "## Exercises ##", 
      "", 
      "Open a CMD shell, cd to the Notebooks directory and run hello.py", 
      " ", 
      "    python hello.py", 
      "", 
      "", 
      "Now launch the Python interactive interpreter and import hello from the command line", 
      "", 
      "    python", 
      "    >>>import hello"
     ]
    }, 
    {
     "cell_type": "code", 
     "collapsed": true, 
     "input": [
      "# hello2.py", 
      "def main():", 
      "    print \"Hello World!\"", 
      "", 
      "if __name__ == \"__main__\":", 
      "    main()"
     ], 
     "language": "python", 
     "outputs": [], 
     "prompt_number": "&nbsp;"
    }, 
    {
     "cell_type": "markdown", 
     "source": [
      "## Exercises ##", 
      "", 
      "Open a CMD shell, cd to the Notebooks directory and run hello.py", 
      "    ", 
      "    python hello2.py", 
      "", 
      "Now launch the Python interactive interpreter and import hello from the command line", 
      "    ", 
      "    python", 
      "    >>>import hello2", 
      "    >>>>hello2.main()"
     ]
    }, 
    {
     "cell_type": "code", 
     "collapsed": true, 
     "input": [
      "# shapes.py", 
      "class Shape():", 
      "    def __init__(self, height, width):", 
      "        self.height = height", 
      "        self.width = width", 
      "", 
      "class Triangle(Shape):  # Class Triangle inherits from Shape", 
      "   def area(self):", 
      "        return self.height * self.width / 2.", 
      "    ", 
      "class Rectangle(Shape):", 
      "    def area(self):", 
      "        return self.height * self.width", 
      "", 
      "        ", 
      "if __name__ == \"__main__\":", 
      "    r = Rectangle(3,4)  # the arguments go to the parent class's init", 
      "    t = Triangle(3,4)", 
      "    print r.area(), t.area() # both objects have area methods."
     ], 
     "language": "python", 
     "outputs": [], 
     "prompt_number": "&nbsp;"
    }, 
    {
     "cell_type": "markdown", 
     "source": [
      "Open a CMD shell, cd to the Notebooks directory and run shapes.py", 
      "", 
      "    python shapes.py", 
      "", 
      "Now launch the Python interactive interpreter and import shapes from the command line", 
      "python", 
      "", 
      "    >>>import shapes", 
      "", 
      "next instantiate a Triangle and print its area", 
      "", 
      "    >>>>t = shapes.Triangle(4,5)", 
      "    >>>>t.area()", 
      "", 
      "    >>> a = shapes.Triangle(4,5)", 
      "    >>> a.get_area()"
     ]
    }, 
    {
     "cell_type": "markdown", 
     "source": [
      "You will see examples of importing of select classes from modules."
     ]
    }, 
    {
     "cell_type": "code", 
     "collapsed": false, 
     "input": [
      "import datetime", 
      "d = datetime.date(2012,5,19)", 
      "print d.year"
     ], 
     "language": "python", 
     "outputs": [
      {
       "output_type": "stream", 
       "stream": "stdout", 
       "text": [
        "2012"
       ]
      }
     ], 
     "prompt_number": 8
    }, 
    {
     "cell_type": "code", 
     "collapsed": false, 
     "input": [
      "from datetime import date", 
      "d = date(2012,5,19)", 
      "print d.year"
     ], 
     "language": "python", 
     "outputs": [
      {
       "output_type": "stream", 
       "stream": "stdout", 
       "text": [
        "2012"
       ]
      }
     ], 
     "prompt_number": 7
    }, 
    {
     "cell_type": "code", 
     "collapsed": false, 
     "input": [
      "from datetime import date as mycrazyname", 
      "d = mycrazyname(2012,5,19)", 
      "d.year"
     ], 
     "language": "python", 
     "outputs": [
      {
       "output_type": "pyout", 
       "prompt_number": 6, 
       "text": [
        "2012"
       ]
      }
     ], 
     "prompt_number": 6
    }, 
    {
     "cell_type": "code", 
     "collapsed": true, 
     "input": [
      "from shapes import Triangle as T", 
      "t = T(3,4)"
     ], 
     "language": "python", 
     "outputs": [], 
     "prompt_number": 9
    }, 
    {
     "cell_type": "code", 
     "collapsed": false, 
     "input": [
      "from shapes import Triangle ", 
      "r = Rectangle(3,4)"
     ], 
     "language": "python", 
     "outputs": [
      {
       "ename": "NameError", 
       "evalue": "name 'Rectangle' is not defined", 
       "output_type": "pyerr", 
       "traceback": [
        "<span class=\"ansired\">---------------------------------------------------------------------------</span>\n<span class=\"ansired\">NameError</span>                                 Traceback (most recent call last)", 
        "<span class=\"ansigreen\">D:\\dandye\\personal\\PythonBootcamp\\GitHub\\&lt;ipython-input-12-4df19faf80a9&gt;</span> in <span class=\"ansicyan\">&lt;module&gt;</span><span class=\"ansiblue\">()</span>\n<span class=\"ansigreen\">      1</span> <span class=\"ansigreen\">from</span> shapes <span class=\"ansigreen\">import</span> Triangle<span class=\"ansiyellow\"></span>\n<span class=\"ansigreen\">----&gt; 2</span><span class=\"ansiyellow\"> </span>r <span class=\"ansiyellow\">=</span> Rectangle<span class=\"ansiyellow\">(</span><span class=\"ansicyan\">3</span><span class=\"ansiyellow\">,</span><span class=\"ansicyan\">4</span><span class=\"ansiyellow\">)</span><span class=\"ansiyellow\"></span>\n", 
        "<span class=\"ansired\">NameError</span>: name &apos;Rectangle&apos; is not defined"
       ]
      }
     ], 
     "prompt_number": 12
    }, 
    {
     "cell_type": "markdown", 
     "source": [
      "## Passing Arguments to Modules ##"
     ]
    }, 
    {
     "cell_type": "code", 
     "collapsed": true, 
     "input": [
      "\"\"\"shapes_w_args\"\"\"", 
      "import sys", 
      "", 
      "class Shape():", 
      "    \"\"\"Shapes are all shapey.\"\"\"", 
      "    def __init__(self, height, width):", 
      "        self.height = height", 
      "        self.width = width", 
      "", 
      "class Triangle(Shape):  # Class Triangle inherits from Shape", 
      "    \"\"\"Triangles have three corners.\"\"\"", 
      "    def area(self):", 
      "        return self.height * self.width / 2.", 
      "    ", 
      "class Rectangle(Shape):", 
      "    \"\"\"Rectangles can be square if they try really hard.\"\"\"", 
      "    def area(self):", 
      "        return self.height * self.width", 
      "", 
      "if __name__ == \"__main__\":", 
      "    if len(sys.argv) < 3: ", 
      "        print \"Usage: shapes_w_args height, width\"", 
      "    else:", 
      "        height = int(sys.argv[1]) # Supplies!", 
      "        width = int(sys.argv[2])", 
      "    print \"Triangle area: {}\".format(Triangle(height,width).area())", 
      "    print \"Rectangle area: {}\".format(Rectangle(height,width).area())"
     ], 
     "language": "python", 
     "outputs": [], 
     "prompt_number": "&nbsp;"
    }, 
    {
     "cell_type": "markdown", 
     "source": [
      "## Exercises ##", 
      "", 
      "Open a CMD shell, cd to the Notebooks directory and run shapes_w_args.py", 
      "    ", 
      "    python shapes_w_args.py", 
      "", 
      "run shapes_w_args.py with arguments", 
      "    ", 
      "    python shapes_w_args.py  5 2", 
      "", 
      "Now launch the Python interactive interpreter and import shapes_w_args from the command line.  It should work like before.", 
      "    ", 
      "    python", 
      "    >>>import shapes_w_args", 
      "    >>>shapes_w_args.Triangle(2,4).area()", 
      "", 
      "Also check out help on the module.", 
      "", 
      "   >>>help(shapes_w_args)", 
      "   >>>help(shapes_w_args.Triangle)"
     ]
    }
   ]
  }
 ]
}