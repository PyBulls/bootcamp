{
 "metadata": {
  "name": "0075_working_with_dates"
 }, 
 "nbformat": 2, 
 "worksheets": [
  {
   "cells": [
    {
     "cell_type": "code", 
     "collapsed": false, 
     "input": [
      "from datetime import date", 
      "d = date(2012,5,19)", 
      "print d.year", 
      "print d.month", 
      "print d.day"
     ], 
     "language": "python", 
     "outputs": [
      {
       "output_type": "stream", 
       "stream": "stdout", 
       "text": [
        "2012", 
        "5", 
        "19"
       ]
      }
     ], 
     "prompt_number": 19
    }, 
    {
     "cell_type": "markdown", 
     "source": [
      "Formatting dates", 
      "", 
      "http://docs.python.org/library/datetime.html#strftime-strptime-behavior"
     ]
    }, 
    {
     "cell_type": "code", 
     "collapsed": false, 
     "input": [
      "print d.strftime(\"%Y-%m-%d\")", 
      "print d.strftime(\"%m/%d/%Y\")"
     ], 
     "language": "python", 
     "outputs": [
      {
       "output_type": "stream", 
       "stream": "stdout", 
       "text": [
        "2012-05-19", 
        "05/19/2012"
       ]
      }
     ], 
     "prompt_number": 20
    }, 
    {
     "cell_type": "code", 
     "collapsed": false, 
     "input": [
      "from datetime import datetime", 
      "d = datetime.strptime(\"1999-12-31\", \"%Y-%m-%d\")", 
      "print d.year"
     ], 
     "language": "python", 
     "outputs": [
      {
       "output_type": "stream", 
       "stream": "stdout", 
       "text": [
        "1999"
       ]
      }
     ], 
     "prompt_number": 21
    }, 
    {
     "cell_type": "code", 
     "collapsed": true, 
     "input": [], 
     "language": "python", 
     "outputs": [], 
     "prompt_number": 21
    }
   ]
  }
 ]
}