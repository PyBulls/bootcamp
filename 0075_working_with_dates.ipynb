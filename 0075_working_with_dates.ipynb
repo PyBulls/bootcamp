{
 "metadata": {
  "name": "0075_working_with_dates"
 }, 
 "nbformat": 2, 
 "worksheets": [
  {
   "cells": [
    {
     "cell_type": "code", 
     "collapsed": false, 
     "input": [
      "from datetime import date", 
      "d = date(2012,5,19)", 
      "print d.year", 
      "print d.month", 
      "print d.day"
     ], 
     "language": "python", 
     "outputs": [
      {
       "output_type": "stream", 
       "stream": "stdout", 
       "text": [
        "2012", 
        "5", 
        "19"
       ]
      }
     ], 
     "prompt_number": 19
    }, 
    {
     "cell_type": "code", 
     "collapsed": false, 
     "input": [
      "print d.strftime(\"%Y-%m-%d\")", 
      "print d.strftime(\"%m/%d/%Y\")"
     ], 
     "language": "python", 
     "outputs": [
      {
       "output_type": "stream", 
       "stream": "stdout", 
       "text": [
        "2012-05-19", 
        "05/19/2012"
       ]
      }
     ], 
     "prompt_number": 20
    }, 
    {
     "cell_type": "markdown", 
     "source": [
      "<table border=\"1\" class=\"docutils\">", 
      "<colgroup>", 
      "<col width=\"22%\">", 
      "<col width=\"64%\">", 
      "<col width=\"14%\">", 
      "</colgroup>", 
      "<thead valign=\"bottom\">", 
      "<tr><th class=\"head\">Directive</th>", 
      "<th class=\"head\">Meaning</th>", 
      "<th class=\"head\">Notes</th>", 
      "</tr>", 
      "</thead>", 
      "<tbody valign=\"top\">", 
      "<tr><td><tt class=\"docutils literal\"><span class=\"pre\">%a</span></tt></td>", 
      "<td>Locale\u2019s abbreviated weekday", 
      "name.</td>", 
      "<td>&nbsp;</td>", 
      "</tr>", 
      "<tr><td><tt class=\"docutils literal\"><span class=\"pre\">%A</span></tt></td>", 
      "<td>Locale\u2019s full weekday name.</td>", 
      "<td>&nbsp;</td>", 
      "</tr>", 
      "<tr><td><tt class=\"docutils literal\"><span class=\"pre\">%b</span></tt></td>", 
      "<td>Locale\u2019s abbreviated month", 
      "name.</td>", 
      "<td>&nbsp;</td>", 
      "</tr>", 
      "<tr><td><tt class=\"docutils literal\"><span class=\"pre\">%B</span></tt></td>", 
      "<td>Locale\u2019s full month name.</td>", 
      "<td>&nbsp;</td>", 
      "</tr>", 
      "<tr><td><tt class=\"docutils literal\"><span class=\"pre\">%c</span></tt></td>", 
      "<td>Locale\u2019s appropriate date and", 
      "time representation.</td>", 
      "<td>&nbsp;</td>", 
      "</tr>", 
      "<tr><td><tt class=\"docutils literal\"><span class=\"pre\">%d</span></tt></td>", 
      "<td>Day of the month as a decimal", 
      "number [01,31].</td>", 
      "<td>&nbsp;</td>", 
      "</tr>", 
      "<tr><td><tt class=\"docutils literal\"><span class=\"pre\">%f</span></tt></td>", 
      "<td>Microsecond as a decimal", 
      "number [0,999999], zero-padded", 
      "on the left</td>", 
      "<td>(1)</td>", 
      "</tr>", 
      "<tr><td><tt class=\"docutils literal\"><span class=\"pre\">%H</span></tt></td>", 
      "<td>Hour (24-hour clock) as a", 
      "decimal number [00,23].</td>", 
      "<td>&nbsp;</td>", 
      "</tr>", 
      "<tr><td><tt class=\"docutils literal\"><span class=\"pre\">%I</span></tt></td>", 
      "<td>Hour (12-hour clock) as a", 
      "decimal number [01,12].</td>", 
      "<td>&nbsp;</td>", 
      "</tr>", 
      "<tr><td><tt class=\"docutils literal\"><span class=\"pre\">%j</span></tt></td>", 
      "<td>Day of the year as a decimal", 
      "number [001,366].</td>", 
      "<td>&nbsp;</td>", 
      "</tr>", 
      "<tr><td><tt class=\"docutils literal\"><span class=\"pre\">%m</span></tt></td>", 
      "<td>Month as a decimal number", 
      "[01,12].</td>", 
      "<td>&nbsp;</td>", 
      "</tr>", 
      "<tr><td><tt class=\"docutils literal\"><span class=\"pre\">%M</span></tt></td>", 
      "<td>Minute as a decimal number", 
      "[00,59].</td>", 
      "<td>&nbsp;</td>", 
      "</tr>", 
      "<tr><td><tt class=\"docutils literal\"><span class=\"pre\">%p</span></tt></td>", 
      "<td>Locale\u2019s equivalent of either", 
      "AM or PM.</td>", 
      "<td>(2)</td>", 
      "</tr>", 
      "<tr><td><tt class=\"docutils literal\"><span class=\"pre\">%S</span></tt></td>", 
      "<td>Second as a decimal number", 
      "[00,61].</td>", 
      "<td>(3)</td>", 
      "</tr>", 
      "<tr><td><tt class=\"docutils literal\"><span class=\"pre\">%U</span></tt></td>", 
      "<td>Week number of the year", 
      "(Sunday as the first day of", 
      "the week) as a decimal number", 
      "[00,53].  All days in a new", 
      "year preceding the first", 
      "Sunday are considered to be in", 
      "week 0.</td>", 
      "<td>(4)</td>", 
      "</tr>", 
      "<tr><td><tt class=\"docutils literal\"><span class=\"pre\">%w</span></tt></td>", 
      "<td>Weekday as a decimal number", 
      "[0(Sunday),6].</td>", 
      "<td>&nbsp;</td>", 
      "</tr>", 
      "<tr><td><tt class=\"docutils literal\"><span class=\"pre\">%W</span></tt></td>", 
      "<td>Week number of the year", 
      "(Monday as the first day of", 
      "the week) as a decimal number", 
      "[00,53].  All days in a new", 
      "year preceding the first", 
      "Monday are considered to be in", 
      "week 0.</td>", 
      "<td>(4)</td>", 
      "</tr>", 
      "<tr><td><tt class=\"docutils literal\"><span class=\"pre\">%x</span></tt></td>", 
      "<td>Locale\u2019s appropriate date", 
      "representation.</td>", 
      "<td>&nbsp;</td>", 
      "</tr>", 
      "<tr><td><tt class=\"docutils literal\"><span class=\"pre\">%X</span></tt></td>", 
      "<td>Locale\u2019s appropriate time", 
      "representation.</td>", 
      "<td>&nbsp;</td>", 
      "</tr>", 
      "<tr><td><tt class=\"docutils literal\"><span class=\"pre\">%y</span></tt></td>", 
      "<td>Year without century as a", 
      "decimal number [00,99].</td>", 
      "<td>&nbsp;</td>", 
      "</tr>", 
      "<tr><td><tt class=\"docutils literal\"><span class=\"pre\">%Y</span></tt></td>", 
      "<td>Year with century as a decimal", 
      "number.</td>", 
      "<td>&nbsp;</td>", 
      "</tr>", 
      "<tr><td><tt class=\"docutils literal\"><span class=\"pre\">%z</span></tt></td>", 
      "<td>UTC offset in the form +HHMM", 
      "or -HHMM (empty string if the", 
      "the object is naive).</td>", 
      "<td>(5)</td>", 
      "</tr>", 
      "<tr><td><tt class=\"docutils literal\"><span class=\"pre\">%Z</span></tt></td>", 
      "<td>Time zone name (empty string", 
      "if the object is naive).</td>", 
      "<td>&nbsp;</td>", 
      "</tr>", 
      "<tr><td><tt class=\"docutils literal\"><span class=\"pre\">%%</span></tt></td>", 
      "<td>A literal <tt class=\"docutils literal\"><span class=\"pre\">'%'</span></tt> character.</td>", 
      "<td>&nbsp;</td>", 
      "</tr>", 
      "</tbody>", 
      "</table>"
     ]
    }, 
    {
     "cell_type": "code", 
     "collapsed": false, 
     "input": [
      "from datetime import datetime", 
      "d = datetime.strptime(\"1999-12-31\", \"%Y-%m-%d\")", 
      "print d.year"
     ], 
     "language": "python", 
     "outputs": [
      {
       "output_type": "stream", 
       "stream": "stdout", 
       "text": [
        "1999"
       ]
      }
     ], 
     "prompt_number": 21
    }, 
    {
     "cell_type": "code", 
     "collapsed": true, 
     "input": [], 
     "language": "python", 
     "outputs": [], 
     "prompt_number": 21
    }
   ]
  }
 ]
}