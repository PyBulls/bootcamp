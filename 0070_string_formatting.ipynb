{
 "metadata": {
  "name": "0070_string_formatting"
 }, 
 "nbformat": 2, 
 "worksheets": [
  {
   "cells": [
    {
     "cell_type": "markdown", 
     "source": [
      "# String Formatting #"
     ]
    }, 
    {
     "cell_type": "code", 
     "collapsed": true, 
     "input": [
      "i = 1", 
      "print \"We are number \" + i + \"!\""
     ], 
     "language": "python", 
     "outputs": [], 
     "prompt_number": 34
    }, 
    {
     "cell_type": "code", 
     "collapsed": true, 
     "input": [
      "print \"We are number \" + str(i) + \"!\""
     ], 
     "language": "python", 
     "outputs": [], 
     "prompt_number": 35
    }, 
    {
     "cell_type": "code", 
     "collapsed": true, 
     "input": [
      "print \"We are number {0}!\".format(i)"
     ], 
     "language": "python", 
     "outputs": [], 
     "prompt_number": 36
    }, 
    {
     "cell_type": "code", 
     "collapsed": true, 
     "input": [
      "# \"{}\".format()", 
      "mylist = [\"Mu\",\"Ha\",\"!\"]", 
      "print \"{0}{1}{2}\".format(mylist[0],mylist[1],mylist[2]) ", 
      "print \"{0}{1} {0}{1}{1} {0}{1}{1}{1}!\".format(mylist[0],mylist[1],mylist[2]) "
     ], 
     "language": "python", 
     "outputs": [], 
     "prompt_number": 32
    }, 
    {
     "cell_type": "code", 
     "collapsed": true, 
     "input": [
      "mylist = [\"foo\",\"bar\",\"MuHaHa!\"]", 
      "", 
      "for i in range(len(mylist)):", 
      "    print \"{cnt} in mylist is {word}\".format(cnt=i,word=mylist[i]) "
     ], 
     "language": "python", 
     "outputs": [], 
     "prompt_number": 3
    }, 
    {
     "cell_type": "code", 
     "collapsed": true, 
     "input": [
      "# formatting decimals", 
      "product = [\"soda\",\"snuggie\",\"Benjamin\"]", 
      "price = [.9,19.99,100]", 
      "for i in range(len(mylist)):", 
      "    print \"{0} costs \\t\\t ${1:.2f}\".format(product[i],price[i])  # .2f says means 2 decimal points", 
      "    # {}.format() method of string formatting is the new standard in Python 3, ", 
      "    #  and should be preferred to the % formatting.", 
      "    print \"%s costs \\t\\t $%.2f\" % (product[i],price[i])  # %s is string & %.2f says means 2 decimal points", 
      "    print \"--\""
     ], 
     "language": "python", 
     "outputs": [], 
     "prompt_number": 27
    }, 
    {
     "cell_type": "markdown", 
     "source": [
      "# Python v2.7 documentation #", 
      "<iframe width=800 height=500 src=\"http://docs.python.org/library/string.html#formatstrings\"></iframe>"
     ]
    }, 
    {
     "cell_type": "code", 
     "collapsed": true, 
     "input": [], 
     "language": "python", 
     "outputs": [], 
     "prompt_number": "&nbsp;"
    }
   ]
  }
 ]
}