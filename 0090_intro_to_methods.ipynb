{
 "metadata": {
  "name": "0090_intro_to_methods"
 }, 
 "nbformat": 2, 
 "worksheets": [
  {
   "cells": [
    {
     "cell_type": "markdown", 
     "source": [
      "# Methods and Objects #"
     ]
    }, 
    {
     "cell_type": "code", 
     "collapsed": false, 
     "input": [
      "class Myclass(): # classes are defined like functions", 
      "    pass         # pass...doesn't really do anything", 
      "", 
      "i1 = Myclass()  # instantiate an *instance* of this class called i1", 
      "i1.a1 = \"Mu\"  # instances have attributes", 
      "i1.a2 = \"Ha\"", 
      "print \"{0}{1}{1}!\".format(i1.a1, i1.a2)"
     ], 
     "language": "python", 
     "outputs": [
      {
       "output_type": "stream", 
       "stream": "stdout", 
       "text": [
        "MuHaHa!"
       ]
      }
     ], 
     "prompt_number": 19
    }, 
    {
     "cell_type": "code", 
     "collapsed": false, 
     "input": [
      "class Nuclass():  # conventionally, class names start with a Capital Letter", 
      "    def __init__(self, first, last):  # require 2 arguments when initializing", 
      "        self.a1 = first  # set those arguments to attributes.", 
      "        self.a2 = last   # \"self\" is the instance being initialized", 
      "        ", 
      "i1 = Nuclass(\"Dan\", \"Dye\")", 
      "i2 = Nuclass(\"Jason\", \"Keene\")", 
      "", 
      "print \"Brought to you by {} {} and {} {}.\".format(i1.a1,i1.a2,i2.a1,i2.a2)"
     ], 
     "language": "python", 
     "outputs": [
      {
       "output_type": "stream", 
       "stream": "stdout", 
       "text": [
        "Brought to you by Dan Dye and Jason Keene."
       ]
      }
     ], 
     "prompt_number": 20
    }, 
    {
     "cell_type": "code", 
     "collapsed": false, 
     "input": [
      "class Treclass():", 
      "    def __init__(self, first, last):", 
      "        self.a1 = first", 
      "        self.a2 = last", 
      "    ", 
      "    def name(self):  # define a method on the class. (NOTE: methods are conventionally lower-case)", 
      "        return \"{} {}\".format(self.a1,self.a2)", 
      "    ", 
      "i1 = Treclass(\"Dan\", \"Dye\")", 
      "i2 = Treclass(\"Jason\", \"Keene\")", 
      "", 
      "print \"Brought to you by {} and {}.\".format(i1.name(),i2.name())"
     ], 
     "language": "python", 
     "outputs": [
      {
       "output_type": "stream", 
       "stream": "stdout", 
       "text": [
        "Brought to you by Dan Dye and Jason Keene."
       ]
      }
     ], 
     "prompt_number": 21
    }, 
    {
     "cell_type": "markdown", 
     "source": [
      "## Exercise ##", 
      "Create a class with address attributes and provide a print_address format that prints to screen in the following format:", 
      "", 
      "    Daniel Dye", 
      "    909 E Patterson St., Suite A", 
      "    Tampa, FL 33604"
     ]
    }, 
    {
     "cell_type": "markdown", 
     "source": [
      "## Polymorphism and Inheritance ##"
     ]
    }, 
    {
     "cell_type": "code", 
     "collapsed": false, 
     "input": [
      "class Triangle():", 
      "    def __init__(self, height, width):", 
      "        self.height = height", 
      "        self.width = width", 
      "    ", 
      "    def area(self):", 
      "        return self.height * self.width / 2.", 
      "    ", 
      "    ", 
      "class Rectangle():", 
      "    def __init__(self, height, width):", 
      "        self.height = height", 
      "        self.width = width", 
      "    ", 
      "    def area(self):", 
      "        return self.height * self.width", 
      "        ", 
      "r = Rectangle(3,4)", 
      "t = Triangle(3,4)", 
      "print r.area(), t.area() # both objects have area methods."
     ], 
     "language": "python", 
     "outputs": [
      {
       "output_type": "stream", 
       "stream": "stdout", 
       "text": [
        "12 6.0"
       ]
      }
     ], 
     "prompt_number": 25
    }, 
    {
     "cell_type": "markdown", 
     "source": [
      "## Inheritance ##"
     ]
    }, 
    {
     "cell_type": "code", 
     "collapsed": false, 
     "input": [
      "class Shape():", 
      "    def __init__(self, height, width):", 
      "        self.height = height", 
      "        self.width = width", 
      "", 
      "class Triangle(Shape):  # Class Triangle inherits from Shape", 
      "   def area(self):", 
      "        return self.height * self.width / 2.", 
      "    ", 
      "class Rectangle(Shape):", 
      "    def area(self):", 
      "        return self.height * self.width", 
      "        ", 
      "r = Rectangle(3,4)  # the arguments go to the parent class's init", 
      "t = Triangle(3,4)", 
      "print r.area(), t.area() # both objects have area methods."
     ], 
     "language": "python", 
     "outputs": [
      {
       "output_type": "stream", 
       "stream": "stdout", 
       "text": [
        "12 6.0"
       ]
      }
     ], 
     "prompt_number": 27
    }, 
    {
     "cell_type": "markdown", 
     "source": [
      "## Thought Exercise ##", 
      "If you were creating classes for international and U.S. domestic addresses, what might you do differently?"
     ]
    }, 
    {
     "cell_type": "code", 
     "collapsed": true, 
     "input": [], 
     "language": "python", 
     "outputs": [], 
     "prompt_number": "&nbsp;"
    }
   ]
  }
 ]
}