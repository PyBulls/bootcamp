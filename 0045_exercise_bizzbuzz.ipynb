{
 "metadata": {
  "name": "0045_exercise_bizzbuzz"
 }, 
 "nbformat": 2, 
 "worksheets": [
  {
   "cells": [
    {
     "cell_type": "markdown", 
     "source": [
      "BizBuzz", 
      "", 
      "", 
      "Count incrementally starting with the number \"1\".  Any number divisible by three is replaced by the word bizz and any divisible by five by the word buzz. Numbers divisible by both three and five become bizzbuzz.", 
      "", 
      "For example, a typical round of bizz buzz would start as follows:", 
      "", 
      "1, 2, Bizz, 4, Buzz, Bizz, 7, 8, Bizz, Buzz, 11, Bizz, 13, 14, BizzBuzz, 16, 17, Bizz, 19, Buzz, Bizz, 22, 23, Bizz, Buzz, 26, Bizz, 28, 29, BizzBuzz, 31, 32, Bizz, 34, Buzz, Bizz, ..."
     ]
    }, 
    {
     "cell_type": "code", 
     "collapsed": true, 
     "input": [], 
     "language": "python", 
     "outputs": [], 
     "prompt_number": "&nbsp;"
    }
   ]
  }
 ]
}