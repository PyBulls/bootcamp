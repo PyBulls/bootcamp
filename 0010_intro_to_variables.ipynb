{
 "metadata": {
  "name": "0010_intro_to_variables"
 }, 
 "nbformat": 2, 
 "worksheets": [
  {
   "cells": [
    {
     "cell_type": "markdown", 
     "source": [
      "Intro to Variables"
     ]
    }, 
    {
     "cell_type": "markdown", 
     "source": [
      "String"
     ]
    }, 
    {
     "cell_type": "code", 
     "collapsed": false, 
     "input": [
      "a = \"Hello World!\"", 
      "print a"
     ], 
     "language": "python", 
     "outputs": [
      {
       "output_type": "stream", 
       "stream": "stdout", 
       "text": [
        "Hello World!"
       ]
      }
     ], 
     "prompt_number": 1
    }, 
    {
     "cell_type": "markdown", 
     "source": [
      "Integer"
     ]
    }, 
    {
     "cell_type": "code", 
     "collapsed": false, 
     "input": [
      "a = 1", 
      "b = 2", 
      "print a + b"
     ], 
     "language": "python", 
     "outputs": [
      {
       "output_type": "stream", 
       "stream": "stdout", 
       "text": [
        "3"
       ]
      }
     ], 
     "prompt_number": 2
    }, 
    {
     "cell_type": "markdown", 
     "source": [
      "Float"
     ]
    }, 
    {
     "cell_type": "code", 
     "collapsed": false, 
     "input": [
      "a = 1.1", 
      "b = 2.2", 
      "print a + b"
     ], 
     "language": "python", 
     "outputs": [
      {
       "output_type": "stream", 
       "stream": "stdout", 
       "text": [
        "3.3"
       ]
      }
     ], 
     "prompt_number": 3
    }, 
    {
     "cell_type": "markdown", 
     "source": [
      "List"
     ]
    }, 
    {
     "cell_type": "code", 
     "collapsed": false, 
     "input": [
      "a = [1, 2, 3]", 
      "print a[0:2]", 
      "print a[1:2]"
     ], 
     "language": "python", 
     "outputs": [
      {
       "output_type": "stream", 
       "stream": "stdout", 
       "text": [
        "[1, 2]", 
        "[2]"
       ]
      }
     ], 
     "prompt_number": 4
    }, 
    {
     "cell_type": "markdown", 
     "source": [
      "Exercises:", 
      "", 
      "1. Subtract two integers", 
      "", 
      "2. Multiply two floats", 
      "", 
      "3. Print the last two elements of a list"
     ]
    }, 
    {
     "cell_type": "markdown", 
     "source": [
      "Operators", 
      "", 
      "How to say them and what they do", 
      "", 
      "* plus + add", 
      "* minus - subtract", 
      "* slash / divide", 
      "* asterisk * multiply", 
      "* percent % modulo", 
      "* less-than < evaluate less-than", 
      "* greater-than > evaluate greater-than", 
      "* less-than-equal <= evaluate less-than-equal", 
      "* greater-than-equal >= evaluate greater-than-equal", 
      "* is equal to == evaluate equals", 
      "* bang ! not", 
      "* sub [] subscript", 
      "  * a sub zero == a[0]"
     ]
    }, 
    {
     "cell_type": "code", 
     "collapsed": true, 
     "input": [], 
     "language": "python", 
     "outputs": [], 
     "prompt_number": "&nbsp;"
    }
   ]
  }
 ]
}