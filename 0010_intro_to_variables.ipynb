{
 "metadata": {
  "name": "0010_intro_to_variables"
 }, 
 "nbformat": 2, 
 "worksheets": [
  {
   "cells": [
    {
     "cell_type": "markdown", 
     "source": [
      "# Intro to Variables #", 
      "## Strings, Numbers, and Lists ##"
     ]
    }, 
    {
     "cell_type": "code", 
     "collapsed": false, 
     "input": [
      "# Strings", 
      "a = \"Hello World!\" # enclose strings in single or double quotes", 
      "print a"
     ], 
     "language": "python", 
     "outputs": [
      {
       "output_type": "stream", 
       "stream": "stdout", 
       "text": [
        "Hello World!"
       ]
      }
     ], 
     "prompt_number": 16
    }, 
    {
     "cell_type": "code", 
     "collapsed": false, 
     "input": [
      "# Integers", 
      "a = 1 # assigns type integer to variable named a", 
      "b = 2", 
      "print a + b  # the \"operator\" here is addition as signified by +"
     ], 
     "language": "python", 
     "outputs": [
      {
       "output_type": "stream", 
       "stream": "stdout", 
       "text": [
        "3"
       ]
      }
     ], 
     "prompt_number": 17
    }, 
    {
     "cell_type": "code", 
     "collapsed": false, 
     "input": [
      "# Floats", 
      "a = 1.1 # floats have decimal points", 
      "b = 2.2", 
      "print a + b"
     ], 
     "language": "python", 
     "outputs": [
      {
       "output_type": "stream", 
       "stream": "stdout", 
       "text": [
        "3.3"
       ]
      }
     ], 
     "prompt_number": 18
    }, 
    {
     "cell_type": "code", 
     "collapsed": false, 
     "input": [
      "# Lists and list slicing", 
      "a = [1, 2, 3]", 
      "print a[0:2] # this is a \"slice\" of a list starting at 0 and stopping at 2 (non-inclusive)", 
      "print a[0:1] # this slice is element one only.  the result is a list.", 
      "print a[0] # this is one element.  the result is a NOT a list", 
      "print a[-1] # this is the last element of the list", 
      "#  slicing mnemonic  ", 
      "#One way to remember how slices work is to think of the indices as pointing between characters, with the left edge of the first character numbered 0. Then the right edge of the last character of a string of n characters has index n, for example:", 
      "print\"\"\"", 
      " +---+---+---+---+---+", 
      " | H | e | l | p | A |", 
      " +---+---+---+---+---+", 
      " 0   1   2   3   4   5", 
      "-5  -4  -3  -2  -1", 
      "\"\"\""
     ], 
     "language": "python", 
     "outputs": [
      {
       "output_type": "stream", 
       "stream": "stdout", 
       "text": [
        "[1, 2]", 
        "[1]", 
        "1", 
        "3", 
        "", 
        " +---+---+---+---+---+", 
        " | H | e | l | p | A |", 
        " +---+---+---+---+---+", 
        " 0   1   2   3   4   5", 
        "-5  -4  -3  -2  -1"
       ]
      }
     ], 
     "prompt_number": 19
    }, 
    {
     "cell_type": "markdown", 
     "source": [
      "Exercises:", 
      "", 
      "1. Subtract an integer from an integer.  Is the answer a float or an integer?  Why?", 
      "", 
      "2. Subtract a float from an integer.  Is the answer a float or an integer?  Why?", 
      "", 
      "3. Print the last two elements of a list", 
      "", 
      "4. Why doesn't this print 5?: print \"2 + 3\""
     ]
    }, 
    {
     "cell_type": "markdown", 
     "source": [
      "## Operators ##", 
      "", 
      "How to say them and what they do", 
      "", 
      "* plus + add", 
      "* minus - subtract", 
      "* slash / divide", 
      "* asterisk * multiply", 
      "* percent % modulo", 
      "* less-than < evaluate less-than", 
      "* greater-than > evaluate greater-than", 
      "* less-than-equal <= evaluate less-than-equal", 
      "* greater-than-equal >= evaluate greater-than-equal", 
      "* is equal to == evaluate equals", 
      "* bang ! not", 
      "* sub [] subscript", 
      "  * a sub zero == a[0]"
     ]
    }, 
    {
     "cell_type": "markdown", 
     "source": [
      "Exercises:", 
      "", 
      "1. Subtract an integer from an integer.  Is the answer a float or an integer?  Why?", 
      "", 
      "2. Subtract a float from an integer.  Is the answer a float or an integer?  Why?", 
      "", 
      "3. Print the last two elements of a list"
     ]
    }, 
    {
     "cell_type": "markdown", 
     "source": [
      "## Methods on Lists ##", 
      "<iframe width=900 height=400 src=\"http://docs.python.org/tutorial/datastructures.html\"></iframe>"
     ]
    }, 
    {
     "cell_type": "code", 
     "collapsed": false, 
     "input": [
      "a = [] # empty list", 
      "a.append(1)", 
      "a.append(2)", 
      "a.append(3)", 
      "print a # a = [1,2,3]", 
      "a.reverse()", 
      "print a # a = [3,2,1]"
     ], 
     "language": "python", 
     "outputs": [
      {
       "output_type": "stream", 
       "stream": "stdout", 
       "text": [
        "[1, 2, 3]", 
        "[3, 2, 1]"
       ]
      }
     ], 
     "prompt_number": 20
    }, 
    {
     "cell_type": "code", 
     "collapsed": false, 
     "input": [
      "print a.pop()", 
      "print a"
     ], 
     "language": "python", 
     "outputs": [
      {
       "output_type": "stream", 
       "stream": "stdout", 
       "text": [
        "1", 
        "[3, 2]"
       ]
      }
     ], 
     "prompt_number": 21
    }, 
    {
     "cell_type": "markdown", 
     "source": [
      "### Exercises ###", 
      "Experiment with some of the methods on lists."
     ]
    }
   ]
  }
 ]
}