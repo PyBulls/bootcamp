{
 "metadata": {
  "name": "0060_writing_to_files"
 }, 
 "nbformat": 2, 
 "worksheets": [
  {
   "cells": [
    {
     "cell_type": "code", 
     "collapsed": false, 
     "input": [
      "of = open(\"./sample_data/hello.txt\",\"w\")", 
      "of.write(\"Hello World!\")", 
      "of.close()", 
      "print open(\"./sample_data/hello.txt\").read()"
     ], 
     "language": "python", 
     "outputs": [
      {
       "output_type": "stream", 
       "stream": "stdout", 
       "text": [
        "Hello World!"
       ]
      }
     ], 
     "prompt_number": 2
    }, 
    {
     "cell_type": "code", 
     "collapsed": false, 
     "input": [
      "sentence = [\"Hello\",\"World\",\"!\"]", 
      "", 
      "of = open(\"./sample_data/hello.txt\",\"w\")", 
      "for i in range(len(sentence)):", 
      "    of.write(sentence[i])", 
      "    print sentence[i]", 
      "of.close()", 
      "print \"Contents of the file:\"", 
      "print open(\"./sample_data/hello.txt\").read()"
     ], 
     "language": "python", 
     "outputs": [
      {
       "output_type": "stream", 
       "stream": "stdout", 
       "text": [
        "Hello", 
        "World", 
        "!", 
        "Contents of the file:", 
        "HelloWorld!"
       ]
      }
     ], 
     "prompt_number": 5
    }, 
    {
     "cell_type": "code", 
     "collapsed": false, 
     "input": [
      "sentence = [\"Hello\",\"World\",\"!\"]", 
      "", 
      "of = open(\"./sample_data/hello.txt\",\"w\")", 
      "for i in range(len(sentence)):", 
      "    of.write(sentence[i]+\"\\n\")  # intro to New Line character", 
      "    print sentence[i], # Supplies!  # intro to print continuation", 
      "of.close()", 
      "print \"Contents of the file:\"", 
      "print open(\"./sample_data/hello.txt\").read()"
     ], 
     "language": "python", 
     "outputs": [
      {
       "output_type": "stream", 
       "stream": "stdout", 
       "text": [
        "Hello World !", 
        "Contents of the file:", 
        "Hello", 
        "World", 
        "!", 
        ""
       ]
      }
     ], 
     "prompt_number": 4
    }, 
    {
     "cell_type": "markdown", 
     "source": [
      "<table class=\"realtable\">", 
      "  <thead>", 
      "    <tr>", 
      "      <th class=\"left\">Escape Sequence</th>", 
      "      <th class=\"left\">Meaning</th>", 
      "      <th class=\"center\">Notes</th>", 
      "      </tr>", 
      "    </thead>", 
      "  <tbody>", 
      "    <tr><td class=\"left\" valign=\"baseline\"><code>\\<var>newline</var></code></td>", 
      "        <td class=\"left\">Ignored</td>", 
      "        <td class=\"center\"></td></tr>", 
      "    <tr><td class=\"left\" valign=\"baseline\"><code>\\\\</code></td>", 
      "        <td class=\"left\">Backslash (<code>\\</code>)</td>", 
      "        <td class=\"center\"></td></tr>", 
      "    <tr><td class=\"left\" valign=\"baseline\"><code>\\'</code></td>", 
      "        <td class=\"left\">Single quote (<code>'</code>)</td>", 
      "        <td class=\"center\"></td></tr>", 
      "    <tr><td class=\"left\" valign=\"baseline\"><code>\\\"</code></td>", 
      "        <td class=\"left\">Double quote (<code>\"</code>)</td>", 
      "        <td class=\"center\"></td></tr>", 
      "    <tr><td class=\"left\" valign=\"baseline\"><code>\\a</code></td>", 
      "        <td class=\"left\">ASCII Bell (BEL)</td>", 
      "        <td class=\"center\"></td></tr>", 
      "    <tr><td class=\"left\" valign=\"baseline\"><code>\\b</code></td>", 
      "        <td class=\"left\">ASCII Backspace (BS)</td>", 
      "        <td class=\"center\"></td></tr>", 
      "    <tr><td class=\"left\" valign=\"baseline\"><code>\\f</code></td>", 
      "        <td class=\"left\">ASCII Formfeed (FF)</td>", 
      "        <td class=\"center\"></td></tr>", 
      "    <tr><td class=\"left\" valign=\"baseline\"><code>\\n</code></td>", 
      "        <td class=\"left\">ASCII Linefeed (LF)</td>", 
      "        <td class=\"center\"></td></tr>", 
      "    <tr><td class=\"left\" valign=\"baseline\"><code>\\N{<var>name</var>}</code></td>", 
      "        <td class=\"left\">Character named <var>name</var> in the Unicode database (Unicode only)</td>", 
      "        <td class=\"center\"></td></tr>", 
      "    <tr><td class=\"left\" valign=\"baseline\"><code>\\r</code></td>", 
      "        <td class=\"left\">ASCII Carriage Return (CR)</td>", 
      "        <td class=\"center\"></td></tr>", 
      "    <tr><td class=\"left\" valign=\"baseline\"><code>\\t</code></td>", 
      "        <td class=\"left\">ASCII Horizontal Tab (TAB)</td>", 
      "        <td class=\"center\"></td></tr>", 
      "    <tr><td class=\"left\" valign=\"baseline\"><code>\\u<var>xxxx</var></code></td>", 
      "        <td class=\"left\">Character with 16-bit hex value <var>xxxx</var> (Unicode only)</td>", 
      "        <td class=\"center\">(1)</td></tr>", 
      "    <tr><td class=\"left\" valign=\"baseline\"><code>\\U<var>xxxxxxxx</var></code></td>", 
      "        <td class=\"left\">Character with 32-bit hex value <var>xxxxxxxx</var> (Unicode only)</td>", 
      "        <td class=\"center\">(2)</td></tr>", 
      "    <tr><td class=\"left\" valign=\"baseline\"><code>\\v</code></td>", 
      "        <td class=\"left\">ASCII Vertical Tab (VT)</td>", 
      "        <td class=\"center\"></td></tr>", 
      "    <tr><td class=\"left\" valign=\"baseline\"><code>\\<var>ooo</var></code></td>", 
      "        <td class=\"left\">Character with octal value <var>ooo</var></td>", 
      "        <td class=\"center\">(3,5)</td></tr>", 
      "    <tr><td class=\"left\" valign=\"baseline\"><code>\\x<var>hh</var></code></td>", 
      "        <td class=\"left\">Character with hex value <var>hh</var></td>", 
      "        <td class=\"center\">(4,5)</td></tr></tbody>", 
      "</table>"
     ]
    }
   ]
  }
 ]
}