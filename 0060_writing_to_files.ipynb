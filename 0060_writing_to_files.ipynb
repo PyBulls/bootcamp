{
 "metadata": {
  "name": "0060_writing_to_files"
 }, 
 "nbformat": 2, 
 "worksheets": [
  {
   "cells": [
    {
     "cell_type": "code", 
     "collapsed": true, 
     "input": [], 
     "language": "python", 
     "outputs": [], 
     "prompt_number": "&nbsp;"
    }
   ]
  }
 ]
}