{
 "metadata": {
  "name": "0011_variable_surprises"
 }, 
 "nbformat": 2, 
 "worksheets": [
  {
   "cells": [
    {
     "cell_type": "markdown", 
     "source": [
      "<iframe width=\"420\" height=\"315\" src=\"http://www.youtube.com/embed/RB2GboGOuTI\" frameborder=\"0\" allowfullscreen></iframe>"
     ]
    }, 
    {
     "cell_type": "markdown", 
     "source": [
      "## Multiple assignment ##"
     ]
    }, 
    {
     "cell_type": "code", 
     "collapsed": false, 
     "input": [
      "a = b = c = 3", 
      "print a, b, c"
     ], 
     "language": "python", 
     "outputs": [
      {
       "output_type": "stream", 
       "stream": "stdout", 
       "text": [
        "3 3 3"
       ]
      }
     ], 
     "prompt_number": 34
    }, 
    {
     "cell_type": "code", 
     "collapsed": false, 
     "input": [
      "a, b, c = 1, 2, 3", 
      "print a, b, c"
     ], 
     "language": "python", 
     "outputs": [
      {
       "output_type": "stream", 
       "stream": "stdout", 
       "text": [
        "1 2 3"
       ]
      }
     ], 
     "prompt_number": 35
    }, 
    {
     "cell_type": "code", 
     "collapsed": false, 
     "input": [
      "a, b, c, d, e = 1.2, 1, \"Hello\", \"World!\", [1,2,3]", 
      "print a, b, c, d, e"
     ], 
     "language": "python", 
     "outputs": [
      {
       "output_type": "stream", 
       "stream": "stdout", 
       "text": [
        "1.2 1 Hello World! [1, 2, 3]"
       ]
      }
     ], 
     "prompt_number": 36
    }, 
    {
     "cell_type": "markdown", 
     "source": [
      "## Operators ##"
     ]
    }, 
    {
     "cell_type": "code", 
     "collapsed": false, 
     "input": [
      "a = \"Mu\"", 
      "b = \"Ha\"", 
      "print a + b", 
      "print (a+b*2)*3"
     ], 
     "language": "python", 
     "outputs": [
      {
       "output_type": "stream", 
       "stream": "stdout", 
       "text": [
        "MuHa", 
        "MuHaHaMuHaHaMuHaHa"
       ]
      }
     ], 
     "prompt_number": 37
    }, 
    {
     "cell_type": "code", 
     "collapsed": false, 
     "input": [
      "a = [1,2]", 
      "print a * 2"
     ], 
     "language": "python", 
     "outputs": [
      {
       "output_type": "stream", 
       "stream": "stdout", 
       "text": [
        "[1, 2, 1, 2]"
       ]
      }
     ], 
     "prompt_number": 38
    }, 
    {
     "cell_type": "markdown", 
     "source": [
      "Exercises:", 
      "", 
      "1. Print the following but D.R.Y. (Don't Repeat Yourself):", 
      "London bridge is falling down, falling down, falling down."
     ]
    }, 
    {
     "cell_type": "markdown", 
     "source": [
      "## Some methods are \"in-place\" i.e. don't return a result ##"
     ]
    }, 
    {
     "cell_type": "code", 
     "collapsed": false, 
     "input": [
      "a = [1,2,3].reverse() ", 
      "print a # Supplies!"
     ], 
     "language": "python", 
     "outputs": [
      {
       "output_type": "stream", 
       "stream": "stdout", 
       "text": [
        "None"
       ]
      }
     ], 
     "prompt_number": 1
    }, 
    {
     "cell_type": "code", 
     "collapsed": false, 
     "input": [
      "a = [3,2,1]", 
      "print a", 
      "a.sort()", 
      "print a", 
      "a = a.sort() # Supplies!", 
      "print a"
     ], 
     "language": "python", 
     "outputs": [
      {
       "output_type": "stream", 
       "stream": "stdout", 
       "text": [
        "[3, 2, 1]", 
        "[1, 2, 3]", 
        "None"
       ]
      }
     ], 
     "prompt_number": 2
    }, 
    {
     "cell_type": "markdown", 
     "source": [
      "## Exercises ##", 
      "", 
      "Revisit the list methods and document some Supplies! in a new cell below.  Be prepared to share them with the rest of the class.", 
      "", 
      "<iframe width=900 height=400 src=\"http://docs.python.org/tutorial/datastructures.html\"></iframe>", 
      ""
     ]
    }
   ]
  }
 ]
}