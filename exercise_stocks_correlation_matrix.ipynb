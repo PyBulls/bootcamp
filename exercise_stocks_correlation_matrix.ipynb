{
 "metadata": {
  "name": "exercise_stocks_correlation_matrix"
 }, 
 "nbformat": 2, 
 "worksheets": [
  {
   "cells": [
    {
     "cell_type": "markdown", 
     "source": [
      "Your goal is to create a correlation matrix like the one below", 
      "", 
      "<img src=\"./images/s_and_p500_correlation_matrix.png\" />"
     ]
    }, 
    {
     "cell_type": "markdown", 
     "source": [
      "Read in the example data provided in ./sample_data/sp500hst.txt", 
      "    ", 
      "    date,ticker,open,high,low,close,volume", 
      "    20090821,A,25.6,25.61,25.22,25.55,34758", 
      "    20090824,A,25.64,25.74,25.33,25.5,22247", 
      "    20090825,A,25.5,25.7,25.225,25.34,30891", 
      "    20090826,A,25.32,25.6425,25.145,25.48,33334"
     ]
    }, 
    {
     "cell_type": "code", 
     "collapsed": false, 
     "input": [
      "# You need to know this.", 
      "", 
      "from scipy.stats.stats import pearsonr", 
      "", 
      "a = range(100)", 
      "b = a[:]", 
      "b.reverse()", 
      "print \"{}\\n{}\".format(a,b)", 
      "", 
      "aap,aas = pearsonr(a,a)", 
      "print \"A is perfectly correlated with itself: {}\".format(aap)", 
      "", 
      "abp,abs = pearsonr(a,b)", 
      "print \"A is inversely correlated with the reverse of itself: {}\".format(abp)"
     ], 
     "language": "python", 
     "outputs": [], 
     "prompt_number": 3
    }, 
    {
     "cell_type": "code", 
     "collapsed": false, 
     "input": [
      "import numpy", 
      "import matplotlib", 
      "from scipy.stats.stats import pearsonr", 
      "", 
      "a = range(100)", 
      "for i in range(10):", 
      "    b = numpy.random.rand(100)", 
      "    abp,abs = pearsonr(a,b)", 
      "    print \"A is {} correlated with this random sequence\".format(abp)"
     ], 
     "language": "python", 
     "outputs": [], 
     "prompt_number": 12
    }, 
    {
     "cell_type": "code", 
     "collapsed": true, 
     "input": [], 
     "language": "python", 
     "outputs": [], 
     "prompt_number": "&nbsp;"
    }
   ]
  }
 ]
}